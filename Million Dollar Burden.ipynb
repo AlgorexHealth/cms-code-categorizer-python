{
 "cells": [
  {
   "cell_type": "markdown",
   "metadata": {},
   "source": [
    "# Million Dollar Burden\n",
    "\n",
    "\"Health care is complicated.\" It's the joke I keep hearing at every meeting over the past two months and with health data it's absolutly true. Even the most advanced health information systems are left with data that is classified into hundreds of thousands of granular codes. The formats of the documents are then further complicastede with either EDI transactions C-CDA documents, FHIR, or just trying to make sense of a flat-file created for a point-to-point exchange. \n",
    "\n",
    "The [Value Set Authority Center](https://vsac.nlm.nih.gov/) lists 15 different code systems that can be used for population health. *(shout out the VSAC is a great resource)* These are as varied as \"Health Service Location Codes\" which are just 189 codes used to identify the locations of services or SNOMED CT which has over 311,000 concepts for health classification. \n",
    "\n",
    "I've heard many IT managers feel like this data is a burden. There is constant flow of ETL jobs amongst various vendors. They group things differently and certain categorizations then are only available in that database or application with no updates until the overnight batch. Well, the data doesn't have to be a burden. With a some simple open source tools you classify millions of rows of claims or clinical data and get immediate results. \n",
    "\n",
    "With all of this complexity, it can seem impossible to distill analytics to a broad enough level for it to be consumasble. Many orgainizations turn to vendors who specialize simply in classification and grouping of codes. All in all, categorization can be one of the most signifcant obstacles to starting a health analytics project. But, it shouldn't be with a few simple tools orgnaizations can take advantage of a range of mappings that have been published for research or other purposes. [\"Bias to action\"](ttps://www.amazon.jobs/principles). Its better to get started with a basic mapping system than to nothing at all. \n",
    "\n",
    "## Algorex Categorizer\n",
    "\n",
    "With this in mind, I wanted to publish this notebook that uses our open-source health categorization functions in a jupyter notebook. When we kick off one of our analytics sprints for a customer, we often start with the steps detailed just so we can have the procedure or diagnosis data categorized before we move forward. You can access the source code on our github page at [CMS Code Categorizer](https://github.com/AlgorexHealth/cms-code-categorizer-python)\n",
    "\n",
    "What our library does:\n",
    "\n",
    "1. Provides a basic implementation of categories from the [Health Care Cost Institute](Health Care Cost and Utilization Report: 2011).\n",
    "2. Provides functions to calculate the correct position of a code in a range of HCPCS codes. Because HCPCS codes are both numeric and alpha-numeric with gaps in the ranges, this is not a simple function. See `is_in_range()` in the source code. \n",
    "3. Provides structures for anyone to add their own mapping as a simple python dicionary. you can do this by range or by specific code. \n",
    "\n",
    "So lets try it out. "
   ]
  },
  {
   "cell_type": "markdown",
   "metadata": {},
   "source": [
    "# Test Data\n",
    "\n",
    "To test this out, we are going to use the Medicare 2017 fee-schedule which can be accessed at CMS website:\n",
    "\n",
    "[Medicare 2017 Fee Schedule](https://www.cms.gov/medicare/medicare-fee-for-service-payment/physicianfeesched/).\n",
    "Specifically, you want the [carrier files for your state](https://www.cms.gov/Medicare/Medicare-Fee-for-Service-Payment/PhysicianFeeSched/PFS-Carrier-Specific-Files.html)\n",
    "\n",
    "We will use the Mass File for this example PFMA17A"
   ]
  },
  {
   "cell_type": "code",
   "execution_count": 2,
   "metadata": {
    "collapsed": false
   },
   "outputs": [],
   "source": [
    "import pandas as pd\n",
    "import os\n"
   ]
  },
  {
   "cell_type": "code",
   "execution_count": 7,
   "metadata": {
    "collapsed": false
   },
   "outputs": [],
   "source": [
    "df = pd.read_csv('PFMA17A.txt',names=['Year','CarrierNumber','Locality','HCPCS','Modifier','NonFacFee','FacFee','Fill1','Fill2','PCTC','TherapyReduction','insTherapy','OPPSind','OPPSnonFacFee','OPPSFacFee','Trailer','TrailerInd'])"
   ]
  },
  {
   "cell_type": "markdown",
   "metadata": {},
   "source": [
    "Now, I am going to focus on the Boston locality \"1\"."
   ]
  },
  {
   "cell_type": "code",
   "execution_count": 11,
   "metadata": {
    "collapsed": false
   },
   "outputs": [],
   "source": [
    "boston_fees = df[df['Locality'] == 1]"
   ]
  },
  {
   "cell_type": "markdown",
   "metadata": {},
   "source": [
    "Now lets import the Algorex Categorization library so that we can use it. The file will need to be in the same directory as the project. "
   ]
  },
  {
   "cell_type": "code",
   "execution_count": 15,
   "metadata": {
    "collapsed": false
   },
   "outputs": [],
   "source": [
    "import categorizer as codes"
   ]
  },
  {
   "cell_type": "markdown",
   "metadata": {},
   "source": [
    "Before we categorize the whole file, let's look at how it works a little. The main method is `carrier_categorizer_by_hcpc` which will categorize the HCPCS codes. \n",
    "\n",
    "So if we wanted to categorize a 99214 Office visit:"
   ]
  },
  {
   "cell_type": "code",
   "execution_count": 17,
   "metadata": {
    "collapsed": false
   },
   "outputs": [
    {
     "data": {
      "text/plain": [
       "'Office Visits'"
      ]
     },
     "execution_count": 17,
     "metadata": {},
     "output_type": "execute_result"
    }
   ],
   "source": [
    "codes.carrier_categorizer_by_hcpc('99214')"
   ]
  },
  {
   "cell_type": "markdown",
   "metadata": {},
   "source": [
    "So now lets categorize our whole file. We will add a new column with the category to our dataframe. "
   ]
  },
  {
   "cell_type": "code",
   "execution_count": 58,
   "metadata": {
    "collapsed": false
   },
   "outputs": [],
   "source": [
    "boston_fees = boston_fees.assign(category=boston_fees['HCPCS'].apply(codes.carrier_categorizer_by_hcpc))"
   ]
  },
  {
   "cell_type": "code",
   "execution_count": 59,
   "metadata": {
    "collapsed": false
   },
   "outputs": [
    {
     "data": {
      "text/plain": [
       "Surgery                         5590\n",
       "Radiology                       1680\n",
       "Other Professional Services      704\n",
       "Cardiovascular                   285\n",
       "Pathology/Lab                    213\n",
       "Ophthalmology                     95\n",
       "NOTFOUND                          92\n",
       "Physical Medicine                 54\n",
       "Inpatient Visits                  41\n",
       "Allergy                           25\n",
       "Immunizations/Injections          19\n",
       "Office Visits                     19\n",
       "Psychiatry & Biofeedback          18\n",
       "Emergency Room/Critical Care      15\n",
       "Preventive Visits                  9\n",
       "Name: category, dtype: int64"
      ]
     },
     "execution_count": 59,
     "metadata": {},
     "output_type": "execute_result"
    }
   ],
   "source": [
    "boston_fees['category'].value_counts()"
   ]
  },
  {
   "cell_type": "markdown",
   "metadata": {},
   "source": [
    "So as we can see, all the codes were categorized except 92 which were labeled as 'Not Found'. Now why don't we have some fun and see which codes are on average the most expensive:"
   ]
  },
  {
   "cell_type": "code",
   "execution_count": 60,
   "metadata": {
    "collapsed": false
   },
   "outputs": [],
   "source": [
    "avg_costs = boston_fees.groupby('category').mean()"
   ]
  },
  {
   "cell_type": "code",
   "execution_count": 61,
   "metadata": {
    "collapsed": true
   },
   "outputs": [],
   "source": [
    "import seaborn as sns\n",
    "%matplotlib inline"
   ]
  },
  {
   "cell_type": "code",
   "execution_count": 62,
   "metadata": {
    "collapsed": false
   },
   "outputs": [
    {
     "name": "stderr",
     "output_type": "stream",
     "text": [
      "/home/vagrant/demo/lib/python3.5/site-packages/matplotlib/font_manager.py:1297: UserWarning: findfont: Font family ['sans-serif'] not found. Falling back to DejaVu Sans\n",
      "  (prop.get_family(), self.defaultFamily[fontext]))\n"
     ]
    },
    {
     "data": {
      "text/plain": [
       "<seaborn.axisgrid.FacetGrid at 0x7fd85e1cedd8>"
      ]
     },
     "execution_count": 62,
     "metadata": {},
     "output_type": "execute_result"
    },
    {
     "data": {
      "image/png": "[encoded data removed]",
      "text/plain": [
       "<matplotlib.figure.Figure at 0x7fd85e1076d8>"
      ]
     },
     "metadata": {},
     "output_type": "display_data"
    }
   ],
   "source": [
    "g = sns.factorplot(data=avg_costs.reset_index(), y=\"NonFacFee\", x=\"category\", kind=\"bar\", aspect=1.5)\n",
    "g.set_xticklabels(rotation=90)\n"
   ]
  },
  {
   "cell_type": "markdown",
   "metadata": {},
   "source": [
    "There we go. No real surprise surgery has the highest prices.\n",
    "\n",
    "# Conclusion\n",
    "\n",
    "Using the categorizer function, We were able to immediatly categorize almost all 6000 HCPCS codes used the Physician Fee Schedule. It's also extenable to other code sets as well by simply adding rules dictionaries to the underlying codes. So whether you a payer claims file or a bunch of clinical encounters, go ahead and get the basic analytics from it quickly using open-tools like our categorizer and python. "
   ]
  }
 ],
 "metadata": {
  "kernelspec": {
   "display_name": "Python 3",
   "language": "python",
   "name": "python3"
  },
  "language_info": {
   "codemirror_mode": {
    "name": "ipython",
    "version": 3
   },
   "file_extension": ".py",
   "mimetype": "text/x-python",
   "name": "python",
   "nbconvert_exporter": "python",
   "pygments_lexer": "ipython3",
   "version": "3.5.2"
  }
 },
 "nbformat": 4,
 "nbformat_minor": 2
}
